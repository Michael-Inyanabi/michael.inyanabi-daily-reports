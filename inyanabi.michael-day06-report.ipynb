{
 "cells": [
  {
   "cell_type": "code",
   "execution_count": 36,
   "id": "intimate-assessment",
   "metadata": {},
   "outputs": [
    {
     "name": "stdout",
     "output_type": "stream",
     "text": [
      "Enter a natural number: 5\n",
      "Sum for odd indices: 10\n"
     ]
    }
   ],
   "source": [
    "# Q1\n",
    "n = int(input(\"Enter a natural number: \"))\n",
    "\n",
    "# (i) Sum of (i + 3) for odd i\n",
    "sum_odd = sum(i + 3 for i in range(n) if i % 2 != 0)\n",
    "print(\"Sum for odd indices:\", sum_odd)\n",
    "\n"
   ]
  },
  {
   "cell_type": "code",
   "execution_count": 39,
   "id": "referenced-spoke",
   "metadata": {},
   "outputs": [
    {
     "name": "stdout",
     "output_type": "stream",
     "text": [
      "product for even indices: 105\n"
     ]
    }
   ],
   "source": [
    "import math\n",
    "# (ii) Sum of (i + 3) for even i\n",
    "product_even = math.prod(i + 3 for i in range(n) if i % 2 == 0)\n",
    "print(\"product for even indices:\", product_even)\n"
   ]
  },
  {
   "cell_type": "code",
   "execution_count": null,
   "id": "e44cba20-44f2-409e-84e6-f67ba375f239",
   "metadata": {},
   "outputs": [],
   "source": []
  },
  {
   "cell_type": "markdown",
   "id": "83ad8ce9-5830-4955-be86-5df6c89fbf6f",
   "metadata": {},
   "source": [
    "Q2. Write a program that reads the number of the day of the week (from 0 to 6). If it is a\n",
    "working day, then the program will write the name of the corresponding day. Otherwise,\n",
    "it will write the word \"Weekend\"."
   ]
  },
  {
   "cell_type": "code",
   "execution_count": 33,
   "id": "departmental-trademark",
   "metadata": {},
   "outputs": [
    {
     "name": "stdout",
     "output_type": "stream",
     "text": [
      "Enter the day of the week (0 to 6): 3\n",
      "Wednesday\n"
     ]
    }
   ],
   "source": [
    "\n",
    "day = int(input(\"Enter the day of the week (0 to 6): \"))\n",
    "days = [\"Sunday\", \"Monday\", \"Tuesday\", \"Wednesday\", \"Thursday\", \"Friday\", \"Saturday\"]\n",
    "\n",
    "if day >= 0 and day <= 6:\n",
    "    if day == 0 or day == 6:\n",
    "        print(\"Weekend\")\n",
    "    else:\n",
    "        print(days[day])\n",
    "else:\n",
    "    print(\"Invalid day number\")\n"
   ]
  },
  {
   "cell_type": "code",
   "execution_count": 38,
   "id": "threaded-fountain",
   "metadata": {},
   "outputs": [],
   "source": []
  },
  {
   "cell_type": "markdown",
   "id": "38a5163a-b662-4718-bc01-0330696fe500",
   "metadata": {},
   "source": [
    "Q3. Make a program that, given a month number (from 0 to 11), indicates how many days it\n",
    "has (28, 30 or 31), ignoring the leap years."
   ]
  },
  {
   "cell_type": "code",
   "execution_count": 43,
   "id": "brief-alignment",
   "metadata": {},
   "outputs": [
    {
     "name": "stdout",
     "output_type": "stream",
     "text": [
      "Enter the month number: 2\n",
      "The number of days is 28\n"
     ]
    }
   ],
   "source": [
    "month = int(input(\"Enter the month number: \"))\n",
    "days = [28,30,31]\n",
    "if month == 4 or month == 6 or month == 9 or month == 11:\n",
    "    print(\"The number of days is\", days[1])\n",
    "elif month == 1 or month == 5 or month == 7 or month == 8 or month == 10 or month == 12:\n",
    "    print(\"The number of days is\", days[2])\n",
    "elif(month == 2):\n",
    "    print(\"The number of days is\", days[0])\n",
    "else:\n",
    "    print(\"The month number is invalid\")"
   ]
  },
  {
   "cell_type": "code",
   "execution_count": null,
   "id": "rental-spotlight",
   "metadata": {},
   "outputs": [],
   "source": []
  },
  {
   "cell_type": "markdown",
   "id": "50db98ed-fe96-4c70-bb5f-443ec6ff70c2",
   "metadata": {},
   "source": [
    "Q4. Write two versions of python code that displays your name 3 times. One version with a\n",
    "\"for loop\" and another version with a \"while loop\"."
   ]
  },
  {
   "cell_type": "code",
   "execution_count": 45,
   "id": "suited-republican",
   "metadata": {},
   "outputs": [
    {
     "name": "stdout",
     "output_type": "stream",
     "text": [
      "Inyanabi Michael\n",
      "Inyanabi Michael\n",
      "Inyanabi Michael\n"
     ]
    }
   ],
   "source": [
    "for i in range(3):\n",
    "    print(\"Inyanabi Michael\")"
   ]
  },
  {
   "cell_type": "code",
   "execution_count": 18,
   "id": "removed-nebraska",
   "metadata": {},
   "outputs": [
    {
     "name": "stdout",
     "output_type": "stream",
     "text": [
      "Inyanabi Michael\n",
      "Inyanabi Michael\n",
      "Inyanabi Michael\n"
     ]
    }
   ],
   "source": [
    "i = 0\n",
    "while i < 3:\n",
    "    print(\"Inyanabi Michael\")\n",
    "    i += 1"
   ]
  },
  {
   "cell_type": "markdown",
   "id": "637802b7-7bdd-4c84-8fd8-6b39a0b209eb",
   "metadata": {},
   "source": [
    "Q5. Given two numbers a0 and a1, the Fibonacci sequence they generate is constructed from\n",
    "the recursion formula an+1 = an + an−1. Calculate the first 15 terms of a Fibonacci\n",
    "sequence, asking the user the initial values."
   ]
  },
  {
   "cell_type": "code",
   "execution_count": 21,
   "id": "victorian-transport",
   "metadata": {},
   "outputs": [
    {
     "name": "stdout",
     "output_type": "stream",
     "text": [
      "Enter the first number1\n",
      "Enter the second number2\n",
      "1\n",
      "2\n",
      "3\n",
      "5\n",
      "8\n",
      "13\n",
      "21\n",
      "34\n",
      "55\n",
      "89\n",
      "144\n",
      "233\n",
      "377\n",
      "610\n",
      "987\n"
     ]
    }
   ],
   "source": [
    "a_0 = int(input(\"Enter the first number\"))\n",
    "a_1 = int(input(\"Enter the second number\"))\n",
    "print(a_0)\n",
    "print(a_1)\n",
    "for i in range(13):\n",
    "    next_value = a_0 + a_1\n",
    "    print(next_value )\n",
    "    a_0 = a_1\n",
    "    a_1 = next_value"
   ]
  },
  {
   "cell_type": "markdown",
   "id": "1bd1d787-389d-43b9-bfb2-d0c3af2b789a",
   "metadata": {},
   "source": [
    "Q6. Compute the first 30 terms of the sequence defined by 2xn+2 − xn+1 − 6xn = 0 sequence,\n",
    "given any two initial values x0 and x1"
   ]
  },
  {
   "cell_type": "code",
   "execution_count": 3,
   "id": "f876ff80-6e5e-487e-a0ef-ef66315712e5",
   "metadata": {},
   "outputs": [
    {
     "name": "stdin",
     "output_type": "stream",
     "text": [
      "Enter x0:  1\n",
      "Enter x1:  2\n"
     ]
    },
    {
     "name": "stdout",
     "output_type": "stream",
     "text": [
      "First 30 terms: [1, 2, 4, 8, 16, 32, 64, 128, 256, 512, 1024, 2048, 4096, 8192, 16384, 32768, 65536, 131072, 262144, 524288, 1048576, 2097152, 4194304, 8388608, 16777216, 33554432, 67108864, 134217728, 268435456, 536870912]\n"
     ]
    }
   ],
   "source": [
    "x0 = int(input(\"Enter x0: \"))\n",
    "x1 = int(input(\"Enter x1: \"))\n",
    "\n",
    "sequence = [x0, x1]\n",
    "for _ in range(28):  # First 30 terms\n",
    "    next_term = (sequence[-1] + 6 * sequence[-2]) //2\n",
    "    sequence.append(next_term)\n",
    "\n",
    "print(\"First 30 terms:\", sequence)"
   ]
  },
  {
   "cell_type": "code",
   "execution_count": null,
   "id": "australian-polish",
   "metadata": {},
   "outputs": [],
   "source": []
  },
  {
   "cell_type": "markdown",
   "id": "9e964714-5f3e-48fa-b027-0020457db9af",
   "metadata": {},
   "source": [
    "Q7. a) Write python code to determine whether or not a year is a leap year. Be sure you\n",
    "know what a leap year is."
   ]
  },
  {
   "cell_type": "code",
   "execution_count": 5,
   "id": "67931ce0-e69e-4d99-a6b9-b2d61289b5bc",
   "metadata": {},
   "outputs": [
    {
     "name": "stdin",
     "output_type": "stream",
     "text": [
      "Enter a year:  2024\n"
     ]
    },
    {
     "name": "stdout",
     "output_type": "stream",
     "text": [
      "2024 is a leap year.\n"
     ]
    }
   ],
   "source": [
    "year = int(input(\"Enter a year: \"))\n",
    "\n",
    "if (year % 4 == 0 and year % 100 != 0) or (year % 400 == 0):\n",
    "    print(f\"{year} is a leap year.\")\n",
    "else:\n",
    "    print(f\"{year} is not a leap year.\")\n"
   ]
  },
  {
   "cell_type": "markdown",
   "id": "dfd2698b-469a-4efa-a7f1-2410d4785135",
   "metadata": {},
   "source": [
    "Q7. b) Write the code using only logical operators, i.e. no conditional branching."
   ]
  },
  {
   "cell_type": "code",
   "execution_count": 6,
   "id": "1a753a68-aa30-4a0f-ba0e-4b5fb6ed6793",
   "metadata": {},
   "outputs": [
    {
     "name": "stdin",
     "output_type": "stream",
     "text": [
      "Enter a year:  2024\n"
     ]
    },
    {
     "name": "stdout",
     "output_type": "stream",
     "text": [
      "2024 is a leap year: True\n"
     ]
    }
   ],
   "source": [
    "year = int(input(\"Enter a year: \"))\n",
    "leap_year = (year % 4 == 0) and (year % 100 != 0 or year % 400 == 0)\n",
    "print(f\"{year} is a leap year: {leap_year}\")"
   ]
  },
  {
   "cell_type": "code",
   "execution_count": null,
   "id": "ab8ce1dd-d1c8-46c7-b333-de7bac86c667",
   "metadata": {},
   "outputs": [],
   "source": []
  },
  {
   "cell_type": "markdown",
   "id": "07b3d706-4672-4a25-9370-dafd2cac1906",
   "metadata": {},
   "source": [
    "Q8. a) Write python code that computes the sum of the square of the first n natural numbers.\n",
    "One version with a \"for loop\" and another version with a \"while loop\".\n"
   ]
  },
  {
   "cell_type": "code",
   "execution_count": 7,
   "id": "62e47a96-efa6-46b1-8fee-ce41c6de1187",
   "metadata": {},
   "outputs": [
    {
     "name": "stdin",
     "output_type": "stream",
     "text": [
      "Enter a natural number n:  5\n"
     ]
    },
    {
     "name": "stdout",
     "output_type": "stream",
     "text": [
      "Sum of squares: 55\n"
     ]
    }
   ],
   "source": [
    "n = int(input(\"Enter a natural number n: \"))\n",
    "sum_squares = sum(i**2 for i in range(1, n + 1))\n",
    "print(\"Sum of squares:\", sum_squares)"
   ]
  },
  {
   "cell_type": "code",
   "execution_count": 9,
   "id": "76913440-bf4b-4430-9543-83f2a99e6c46",
   "metadata": {},
   "outputs": [
    {
     "name": "stdin",
     "output_type": "stream",
     "text": [
      "Enter a natural number n:  4\n"
     ]
    },
    {
     "name": "stdout",
     "output_type": "stream",
     "text": [
      "Sum of squares: 30\n"
     ]
    }
   ],
   "source": [
    "n = int(input(\"Enter a natural number n: \"))\n",
    "sum_squares, i = 0, 1\n",
    "while i <= n:\n",
    "    sum_squares += i**2\n",
    "    i += 1\n",
    "print(\"Sum of squares:\", sum_squares)"
   ]
  },
  {
   "cell_type": "markdown",
   "id": "799c4c96-545a-4a4b-846a-84f54e76c0c6",
   "metadata": {},
   "source": [
    "Q8. b) Write python code that prints, for a natural number M, the smallest natural number\n",
    "n such that 1\n",
    "\n",
    "2 + 22 +· · ·+n\n",
    "\n",
    "2 ≥ M. One version with a \"for loop\" and another version\n",
    "\n",
    "with a \"while loop\"."
   ]
  },
  {
   "cell_type": "code",
   "execution_count": 15,
   "id": "b026d945-061d-4b8b-b9e2-425e89652842",
   "metadata": {},
   "outputs": [
    {
     "name": "stdin",
     "output_type": "stream",
     "text": [
      "Enter a number M:  100\n"
     ]
    },
    {
     "name": "stdout",
     "output_type": "stream",
     "text": [
      "Smallest n: 7\n"
     ]
    }
   ],
   "source": [
    "M = int(input(\"Enter a number M: \"))\n",
    "sum_squares, n = 0, 0\n",
    "for i in range(1, M+1):\n",
    "    sum_squares += i**2\n",
    "    if sum_squares >= M:\n",
    "        n = i\n",
    "        break\n",
    "print(\"Smallest n:\", n)"
   ]
  },
  {
   "cell_type": "code",
   "execution_count": null,
   "id": "1ddeef26-86e3-4d88-b474-222a7fdcb80d",
   "metadata": {},
   "outputs": [],
   "source": [
    "M = int(input(\"Enter a number M: \"))\n",
    "sum_squares, n = 0, 1\n",
    "while sum_squares < M:\n",
    "    sum_squares += n**2\n",
    "    n += 1\n",
    "print(\"Smallest n:\", n-1)"
   ]
  },
  {
   "cell_type": "code",
   "execution_count": null,
   "id": "78b5c1f4-86d6-4597-8ca3-78771b1cc38a",
   "metadata": {},
   "outputs": [],
   "source": []
  },
  {
   "cell_type": "markdown",
   "id": "484a5785-214d-4e09-a004-d64993eb3adc",
   "metadata": {},
   "source": [
    "Q9. a) Write python code that prints all the divisors of a given natural number."
   ]
  },
  {
   "cell_type": "code",
   "execution_count": 17,
   "id": "thousand-absence",
   "metadata": {},
   "outputs": [
    {
     "name": "stdin",
     "output_type": "stream",
     "text": [
      "Enter a natural number:  1\n"
     ]
    },
    {
     "name": "stdout",
     "output_type": "stream",
     "text": [
      "Divisors are:\n",
      "1\n"
     ]
    }
   ],
   "source": [
    "num = int(input(\"Enter a natural number: \"))\n",
    "print(\"Divisors are:\")\n",
    "for i in range(1, num + 1):\n",
    "    if num % i == 0:\n",
    "        print(i)"
   ]
  },
  {
   "cell_type": "markdown",
   "id": "a30bd7fa-170c-4772-b9f4-cad0070a6907",
   "metadata": {},
   "source": [
    "Q9. b) Read an integer number input by the user and calculate its prime factors. This will\n",
    "just be some of its divisors."
   ]
  },
  {
   "cell_type": "code",
   "execution_count": 20,
   "id": "b38a784d-1032-4adf-a651-55cb9ab4b31f",
   "metadata": {},
   "outputs": [
    {
     "name": "stdin",
     "output_type": "stream",
     "text": [
      "Enter a number:  100\n"
     ]
    },
    {
     "name": "stdout",
     "output_type": "stream",
     "text": [
      "Prime factors: [2, 2, 5, 5]\n"
     ]
    }
   ],
   "source": [
    "num = int(input(\"Enter a number: \"))\n",
    "i = 2\n",
    "prime_factors = []\n",
    "while num > 1:\n",
    "    while num % i == 0:\n",
    "        prime_factors.append(i)\n",
    "        num //= i\n",
    "    i += 1\n",
    "print(\"Prime factors:\", prime_factors)\n"
   ]
  },
  {
   "cell_type": "code",
   "execution_count": null,
   "id": "a1e9385b-2e6e-4e26-9cc7-deb253845313",
   "metadata": {},
   "outputs": [],
   "source": []
  },
  {
   "cell_type": "markdown",
   "id": "fad0db57-5fdf-48d4-adee-07e15af6f27a",
   "metadata": {},
   "source": [
    "Q10. Read an integer number between n 0 and 9 and print its multiplication table up to N\n",
    "where N is another another natural number read by the program."
   ]
  },
  {
   "cell_type": "code",
   "execution_count": 21,
   "id": "f9e82d42-a00f-4949-8224-132ac5af5cbc",
   "metadata": {},
   "outputs": [
    {
     "name": "stdin",
     "output_type": "stream",
     "text": [
      "Enter a number between 0 and 9:  2\n",
      "Enter the max value N:  5\n"
     ]
    },
    {
     "name": "stdout",
     "output_type": "stream",
     "text": [
      "2 * 1 = 2\n",
      "2 * 2 = 4\n",
      "2 * 3 = 6\n",
      "2 * 4 = 8\n",
      "2 * 5 = 10\n"
     ]
    }
   ],
   "source": [
    "n = int(input(\"Enter a number between 0 and 9: \"))\n",
    "N = int(input(\"Enter the max value N: \"))\n",
    "\n",
    "for i in range(1, N + 1):\n",
    "    print(f\"{n} * {i} = {n * i}\")"
   ]
  },
  {
   "cell_type": "code",
   "execution_count": null,
   "id": "85b74bf4-ef04-4725-826c-c6b060ca5673",
   "metadata": {},
   "outputs": [],
   "source": []
  },
  {
   "cell_type": "markdown",
   "id": "54161d7c-8203-4f30-a0bc-d96ea844630d",
   "metadata": {},
   "source": [
    "Q11. Write a program that prints all the numbers between 0 and 40 that are multiples of 3, 7\n",
    "or 11."
   ]
  },
  {
   "cell_type": "code",
   "execution_count": 23,
   "id": "e0f00399-5581-42f9-a039-9efa365785c1",
   "metadata": {},
   "outputs": [
    {
     "name": "stdout",
     "output_type": "stream",
     "text": [
      "0\n",
      "3\n",
      "6\n",
      "7\n",
      "9\n",
      "11\n",
      "12\n",
      "14\n",
      "15\n",
      "18\n",
      "21\n",
      "22\n",
      "24\n",
      "27\n",
      "28\n",
      "30\n",
      "33\n",
      "35\n",
      "36\n",
      "39\n"
     ]
    }
   ],
   "source": [
    "for i in range(41):\n",
    "    if i % 3 == 0 or i % 7 == 0 or i % 11 == 0:\n",
    "        print(i)"
   ]
  },
  {
   "cell_type": "code",
   "execution_count": null,
   "id": "b675277e-2919-4415-8439-c1e8e9d91e04",
   "metadata": {},
   "outputs": [],
   "source": []
  },
  {
   "cell_type": "markdown",
   "id": "225d8386-3e91-4c5e-aa6f-c64d0029532b",
   "metadata": {},
   "source": [
    "Q12. Write python code that prints the floor of a float x. Recall that the floor of a float x is the\n",
    "largest integer value less than or equal to x, i.e. if E[x] is the floor of x, then it satisfies,\n",
    "\n",
    "$E[x] = 1 + E[x − 1]$"
   ]
  },
  {
   "cell_type": "code",
   "execution_count": 24,
   "id": "02562ae1-0b7c-46ed-808c-89b9730362b1",
   "metadata": {},
   "outputs": [
    {
     "name": "stdin",
     "output_type": "stream",
     "text": [
      "Enter a float:  23.9\n"
     ]
    },
    {
     "name": "stdout",
     "output_type": "stream",
     "text": [
      "Floor value: 23\n"
     ]
    }
   ],
   "source": [
    "import math\n",
    "\n",
    "x = float(input(\"Enter a float: \"))\n",
    "print(\"Floor value:\", math.floor(x))"
   ]
  },
  {
   "cell_type": "code",
   "execution_count": null,
   "id": "751549fd-37d8-4f2f-b0ed-dd882662e8a4",
   "metadata": {},
   "outputs": [],
   "source": []
  },
  {
   "cell_type": "markdown",
   "id": "d10ff232-b572-41bd-834e-9b2064693e82",
   "metadata": {},
   "source": [
    "13. Given a point in the plane by its Cartesian coordinates, determine in which quadrant it is\n",
    "(1st, 2nd, 3rd, 4th), if it lies on an axis, or if it is the origin. Do this for several points in\n",
    "the same execution of the program until the user quits."
   ]
  },
  {
   "cell_type": "code",
   "execution_count": 26,
   "id": "fe19983e-24a2-429f-8b2c-a4a3715c068f",
   "metadata": {},
   "outputs": [
    {
     "name": "stdin",
     "output_type": "stream",
     "text": [
      "Enter x coordinate:  -9\n",
      "Enter y coordinate:  3\n"
     ]
    },
    {
     "name": "stdout",
     "output_type": "stream",
     "text": [
      "2nd Quadrant\n"
     ]
    },
    {
     "name": "stdin",
     "output_type": "stream",
     "text": [
      "Do you want to continue? (y/n):  N\n"
     ]
    }
   ],
   "source": [
    "while True:\n",
    "    x = float(input(\"Enter x coordinate: \"))\n",
    "    y = float(input(\"Enter y coordinate: \"))\n",
    "\n",
    "    if x == 0 and y == 0:\n",
    "        print(\"Origin\")\n",
    "    elif x == 0:\n",
    "        print(\"Lies on Y axis\")\n",
    "    elif y == 0:\n",
    "        print(\"Lies on X axis\")\n",
    "    elif x > 0 and y > 0:\n",
    "        print(\"1st Quadrant\")\n",
    "    elif x < 0 and y > 0:\n",
    "        print(\"2nd Quadrant\")\n",
    "    elif x < 0 and y < 0:\n",
    "        print(\"3rd Quadrant\")\n",
    "    else:\n",
    "        print(\"4th Quadrant\")\n",
    "\n",
    "    cont = input(\"Do you want to continue? (y/n): \")\n",
    "    if cont.lower() != 'y':\n",
    "        break"
   ]
  },
  {
   "cell_type": "code",
   "execution_count": null,
   "id": "88058412-30d9-4029-9ea3-12740c05a8d5",
   "metadata": {},
   "outputs": [],
   "source": []
  },
  {
   "cell_type": "markdown",
   "id": "07f775d5-f577-453a-b900-04a4174905eb",
   "metadata": {},
   "source": [
    "14. Ask for an integer number between 0 and 9, denoted x. Once the user has entered a correct\n",
    "number (that is one in the range [0..10)) the program asks for a second integer number\n",
    "between 0 and 255, denoted max. The program continues asking for the number until it\n",
    "is correct (that it is in the range [0..256)). When this is done, show all multiples of x that\n",
    "are between 0 and max. Then, ask the user whether he/she wants to continue; if in the\n",
    "affirmative, ask for another couple of numbers, otherwise finish."
   ]
  },
  {
   "cell_type": "code",
   "execution_count": 27,
   "id": "3840e7c4-befd-4a79-8b63-73a8a68686ce",
   "metadata": {},
   "outputs": [
    {
     "name": "stdin",
     "output_type": "stream",
     "text": [
      "Enter a number between 0 and 9:  7\n",
      "Enter a number between 0 and 255:  9\n"
     ]
    },
    {
     "name": "stdout",
     "output_type": "stream",
     "text": [
      "Multiples of 7 up to 9:\n",
      "0\n",
      "7\n"
     ]
    },
    {
     "name": "stdin",
     "output_type": "stream",
     "text": [
      "Do you want to continue? (y/n):  n\n"
     ]
    },
    {
     "name": "stdout",
     "output_type": "stream",
     "text": [
      "Exiting...\n"
     ]
    }
   ],
   "source": [
    "while True:\n",
    "    x = int(input(\"Enter a number between 0 and 9: \"))\n",
    "    if 0 <= x <= 9:\n",
    "        break\n",
    "\n",
    "while True:\n",
    "    max_num = int(input(\"Enter a number between 0 and 255: \"))\n",
    "    if 0 <= max_num <= 255:\n",
    "        break\n",
    "\n",
    "print(f\"Multiples of {x} up to {max_num}:\")\n",
    "for i in range(0, max_num + 1, x):\n",
    "    print(i)\n",
    "\n",
    "cont = input(\"Do you want to continue? (y/n): \")\n",
    "if cont.lower() != 'y':\n",
    "    print(\"Exiting...\")"
   ]
  }
 ],
 "metadata": {
  "kernelspec": {
   "display_name": "Python 3 (ipykernel)",
   "language": "python",
   "name": "python3"
  },
  "language_info": {
   "codemirror_mode": {
    "name": "ipython",
    "version": 3
   },
   "file_extension": ".py",
   "mimetype": "text/x-python",
   "name": "python",
   "nbconvert_exporter": "python",
   "pygments_lexer": "ipython3",
   "version": "3.12.4"
  }
 },
 "nbformat": 4,
 "nbformat_minor": 5
}
