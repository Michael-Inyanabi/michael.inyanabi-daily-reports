{
 "cells": [
  {
   "cell_type": "markdown",
   "id": "warming-finnish",
   "metadata": {},
   "source": [
    "1. Create a function `find_max()` that accepts two numeric inputs and returns the greater value. Avoid using the built-in `max()` function."
   ]
  },
  {
   "cell_type": "code",
   "execution_count": 13,
   "id": "assisted-change",
   "metadata": {},
   "outputs": [
    {
     "name": "stdout",
     "output_type": "stream",
     "text": [
      "9\n"
     ]
    }
   ],
   "source": [
    "def find_max(a, b):\n",
    "    if a > b:\n",
    "        print(a)\n",
    "    elif b > a:\n",
    "        print(b)\n",
    "find_max(9,3)"
   ]
  },
  {
   "cell_type": "markdown",
   "id": "capital-headset",
   "metadata": {},
   "source": [
    "2. Develop a function `find_max_of_three()` to find the maximum among three given numbers."
   ]
  },
  {
   "cell_type": "code",
   "execution_count": 25,
   "id": "legendary-influence",
   "metadata": {},
   "outputs": [
    {
     "name": "stdout",
     "output_type": "stream",
     "text": [
      "100\n"
     ]
    }
   ],
   "source": [
    "def find_max_of_three(a, b, c):\n",
    "    if a > b and c:\n",
    "        print(a)\n",
    "    elif b > a and c:\n",
    "        print(b)\n",
    "    elif c > b and a:\n",
    "        print(c)\n",
    "find_max_of_three(30, 100, 5)"
   ]
  },
  {
   "cell_type": "markdown",
   "id": "appreciated-superior",
   "metadata": {},
   "source": [
    "3. Write a function to manually calculate the length of a given list or string without using `len()`.\n"
   ]
  },
  {
   "cell_type": "code",
   "execution_count": 7,
   "id": "martial-convergence",
   "metadata": {},
   "outputs": [
    {
     "name": "stdout",
     "output_type": "stream",
     "text": [
      "16\n",
      "5\n"
     ]
    }
   ],
   "source": [
    "def find_len(arg):\n",
    "    counter = 0\n",
    "    for i in arg:\n",
    "        counter += 1\n",
    "    return counter\n",
    "print(find_len(\"Inyanabi Michael\"))  \n",
    "print(find_len([1, 2, 3, 4, 5]))   "
   ]
  },
  {
   "cell_type": "code",
   "execution_count": 80,
   "id": "republican-machinery",
   "metadata": {},
   "outputs": [
    {
     "name": "stdout",
     "output_type": "stream",
     "text": [
      "13\n",
      "5\n"
     ]
    }
   ],
   "source": [
    "def manual_length(input_data):\n",
    "    count = 0\n",
    "    for _ in input_data:\n",
    "        count += 1\n",
    "    return count\n",
    "\n",
    "# Example usage:\n",
    "print(manual_length(\"Hello, World!\"))  # Output: 13\n",
    "print(manual_length([1, 2, 3, 4, 5]))   # Output: 5\n"
   ]
  },
  {
   "cell_type": "markdown",
   "id": "ranging-pavilion",
   "metadata": {},
   "source": [
    "4. Implement a function that checks if a given character is a vowel (a, e, i, o, u).\n"
   ]
  },
  {
   "cell_type": "code",
   "execution_count": 67,
   "id": "olympic-sleep",
   "metadata": {},
   "outputs": [
    {
     "name": "stdout",
     "output_type": "stream",
     "text": [
      "Enter the character:u\n",
      "vowel\n"
     ]
    }
   ],
   "source": [
    "def vowel_check():\n",
    "    character = input(\"Enter the character:\")\n",
    "    if character.lower() in ('a', 'e', 'i', 'o', 'u'):\n",
    "        print(\"vowel\")\n",
    "    elif character.upper() in ('A', 'E', 'I', 'O', 'U'):\n",
    "        print(\"vowel\")\n",
    "    else:\n",
    "        print(\"Consonant\")\n",
    "        \n",
    "vowel_check()"
   ]
  },
  {
   "cell_type": "markdown",
   "id": "smooth-africa",
   "metadata": {},
   "source": [
    "5. Write a function `encode()` that converts a string into \"rövarspråket\" ([robber's language](https://en.wikipedia.org/wiki/R%C3%B6varspr%C3%A5ket)) by doubling consonants and placing \"o\" in between, e.g., \"hello\" -> \"hohelollolo\".\n"
   ]
  },
  {
   "cell_type": "code",
   "execution_count": 10,
   "id": "sharing-guinea",
   "metadata": {},
   "outputs": [
    {
     "name": "stdout",
     "output_type": "stream",
     "text": [
      "Inonyoyanonabobi MoMicochohaelol\n",
      "rorobobboberor\n",
      "lolanongoguagoge\n"
     ]
    }
   ],
   "source": [
    "def encode(text):\n",
    "    vowels = \"aeiouAEIOU\"\n",
    "    result = []\n",
    "\n",
    "    for char in text:\n",
    "        result.append(char)  # Append the original character\n",
    "        if char not in vowels and char.isalpha():  # Check if it's a consonant\n",
    "            result.append('o')  # Append 'o' for rövarspråket\n",
    "            result.append(char)  # Append the consonant again\n",
    "\n",
    "    return ''.join(result)\n",
    "\n",
    "# Example usage:\n",
    "print(encode(\"Inyanabi Michael\"))  # Output: \"hohelollolo\"\n",
    "print(encode(\"robber\")) # Output: \"rorobobber\"\n",
    "print(encode(\"language\")) # Output: \"lanoguagoge\"\n"
   ]
  },
  {
   "cell_type": "code",
   "execution_count": null,
   "id": "scheduled-bachelor",
   "metadata": {},
   "outputs": [],
   "source": []
  },
  {
   "cell_type": "markdown",
   "id": "sustained-filling",
   "metadata": {},
   "source": [
    "6. Create `sum_elements()` and `product_elements()` functions to sum and multiply all elements in a list, respectively."
   ]
  },
  {
   "cell_type": "code",
   "execution_count": 11,
   "id": "orange-australian",
   "metadata": {},
   "outputs": [],
   "source": [
    "import math"
   ]
  },
  {
   "cell_type": "code",
   "execution_count": 14,
   "id": "endangered-arthritis",
   "metadata": {},
   "outputs": [
    {
     "name": "stdout",
     "output_type": "stream",
     "text": [
      "15\n",
      "120\n"
     ]
    }
   ],
   "source": [
    "def sum_elements(lst):\n",
    "    total = 0\n",
    "    for num in lst:\n",
    "        total += num\n",
    "    return total\n",
    "\n",
    "def product_elements(lst):\n",
    "    product = 1\n",
    "    for num in lst:\n",
    "        product *= num\n",
    "    return product\n",
    "\n",
    "numbers = [1, 2, 3, 4, 5]\n",
    "print(sum_elements(numbers))     \n",
    "print(product_elements(numbers))  \n"
   ]
  },
  {
   "cell_type": "code",
   "execution_count": null,
   "id": "coordinate-singer",
   "metadata": {},
   "outputs": [],
   "source": []
  },
  {
   "cell_type": "markdown",
   "id": "resistant-macro",
   "metadata": {},
   "source": [
    "7. Define a function `reverse_string()` to reverse the characters in a given string."
   ]
  },
  {
   "cell_type": "code",
   "execution_count": null,
   "id": "printable-drama",
   "metadata": {},
   "outputs": [],
   "source": [
    "def reverse_string():\n",
    "    data = input(\"Enter a string:\")\n",
    "    print(data.)"
   ]
  },
  {
   "cell_type": "code",
   "execution_count": 23,
   "id": "cathedral-worry",
   "metadata": {},
   "outputs": [
    {
     "name": "stdout",
     "output_type": "stream",
     "text": [
      "olleh\n",
      "leahciM\n"
     ]
    }
   ],
   "source": [
    "def reverse_string(s):\n",
    "    reversed_str = ''\n",
    "    for char in s:\n",
    "        reversed_str = char + reversed_str \n",
    "    return reversed_str\n",
    "\n",
    "print(reverse_string(\"hello\"))  \n",
    "print(reverse_string(\"Michael\")) \n"
   ]
  },
  {
   "cell_type": "code",
   "execution_count": null,
   "id": "virgin-ballet",
   "metadata": {},
   "outputs": [],
   "source": []
  },
  {
   "cell_type": "markdown",
   "id": "extensive-lounge",
   "metadata": {},
   "source": [
    " 8. Implement `check_palindrome()` to verify if a string reads the same forwards and backwards, i.e. is a [palindrome](https://en.wikipedia.org/wiki/Palindrome)."
   ]
  },
  {
   "cell_type": "code",
   "execution_count": 44,
   "id": "bulgarian-mathematics",
   "metadata": {
    "scrolled": true
   },
   "outputs": [
    {
     "name": "stdout",
     "output_type": "stream",
     "text": [
      "True\n",
      "False\n",
      "True\n"
     ]
    }
   ],
   "source": [
    "def check_palindrome(s):\n",
    "    \"\"\"The work of this function is to verify \n",
    "    if a string reads the same forwards and backwards\"\"\"\n",
    "    # Normalizing the string by removing spaces and converting to lowercase\n",
    "    normalized_str = ''.join(s.split()).lower()\n",
    "    # Comparing the string to its reverse\n",
    "    return normalized_str == normalized_str[::-1]\n",
    "\n",
    "print(check_palindrome(\"A man a plan a canal Panama\"))  \n",
    "print(check_palindrome(\"Hello\"))                         \n",
    "print(check_palindrome(\"Racecar\"))                       \n"
   ]
  },
  {
   "cell_type": "code",
   "execution_count": null,
   "id": "deluxe-conversation",
   "metadata": {},
   "outputs": [],
   "source": []
  },
  {
   "cell_type": "markdown",
   "id": "recreational-semiconductor",
   "metadata": {},
   "source": [
    "9. Develop a function `check_membership()` to determine if a value exists within a list.\n"
   ]
  },
  {
   "cell_type": "code",
   "execution_count": 43,
   "id": "seasonal-punishment",
   "metadata": {},
   "outputs": [
    {
     "name": "stdout",
     "output_type": "stream",
     "text": [
      "True\n",
      "False\n"
     ]
    }
   ],
   "source": [
    "def check_membership(value, lst):\n",
    "    \"\"\"The function is to determine if an element \n",
    "    exixt in a list and returns true if there is, \n",
    "    and false if there is not\"\"\"\n",
    "    for item in lst:\n",
    "        if item == value:\n",
    "            return True\n",
    "    return False\n",
    "\n",
    "my_list = [1, 2, 3, 4, 5]\n",
    "print(check_membership(3, my_list))  \n",
    "print(check_membership(6, my_list))  "
   ]
  },
  {
   "cell_type": "markdown",
   "id": "final-sacrifice",
   "metadata": {},
   "source": [
    "10. Write `check_overlap()` to identify if two lists share any elements."
   ]
  },
  {
   "cell_type": "code",
   "execution_count": 42,
   "id": "synthetic-congo",
   "metadata": {},
   "outputs": [
    {
     "name": "stdout",
     "output_type": "stream",
     "text": [
      "True\n",
      "False\n"
     ]
    }
   ],
   "source": [
    "def check_overlap(list1, list2):\n",
    "    \"\"\"This function checks to verify if an element in one \n",
    "    list in found in another list. It returns true if \n",
    "    an elent from one list is found in the other\"\"\"\n",
    "    for item in list1:\n",
    "        if item in list2:\n",
    "            return True\n",
    "    return False\n",
    "\n",
    "list_a = [1, 2, 3, 4]\n",
    "list_b = [4, 5, 6]\n",
    "list_c = [7, 8, 9]\n",
    "\n",
    "print(check_overlap(list_a, list_b)) \n",
    "print(check_overlap(list_a, list_c))  \n"
   ]
  }
 ],
 "metadata": {
  "kernelspec": {
   "display_name": "Python 3",
   "language": "python",
   "name": "python3"
  },
  "language_info": {
   "codemirror_mode": {
    "name": "ipython",
    "version": 3
   },
   "file_extension": ".py",
   "mimetype": "text/x-python",
   "name": "python",
   "nbconvert_exporter": "python",
   "pygments_lexer": "ipython3",
   "version": "3.9.2"
  }
 },
 "nbformat": 4,
 "nbformat_minor": 5
}
