{
 "cells": [
  {
   "cell_type": "markdown",
   "id": "elegant-inside",
   "metadata": {},
   "source": [
    "1. Create a function `find_max()` that accepts two numeric inputs and returns the greater value. Avoid using the built-in `max()` function."
   ]
  },
  {
   "cell_type": "code",
   "execution_count": 13,
   "id": "unexpected-tribe",
   "metadata": {},
   "outputs": [
    {
     "name": "stdout",
     "output_type": "stream",
     "text": [
      "9\n"
     ]
    }
   ],
   "source": [
    "def find_max(a, b):\n",
    "    \"\"\"This function prints the \n",
    "    maximum number in a given list\"\"\"\n",
    "    if a > b:\n",
    "        print(a)\n",
    "    elif b > a:\n",
    "        print(b)\n",
    "find_max(9,3)"
   ]
  },
  {
   "cell_type": "markdown",
   "id": "muslim-cache",
   "metadata": {},
   "source": [
    "2. Develop a function `find_max_of_three()` to find the maximum among three given numbers."
   ]
  },
  {
   "cell_type": "code",
   "execution_count": 25,
   "id": "after-farming",
   "metadata": {},
   "outputs": [
    {
     "name": "stdout",
     "output_type": "stream",
     "text": [
      "100\n"
     ]
    }
   ],
   "source": [
    "def find_max_of_three(a, b, c):\n",
    "    \"\"\"This function is used to find \n",
    "    the maximum number when given 3 numbers\"\"\"\n",
    "    if a > b and c:\n",
    "        print(a)\n",
    "    elif b > a and c:\n",
    "        print(b)\n",
    "    elif c > b and a:\n",
    "        print(c)\n",
    "find_max_of_three(30, 100, 5)"
   ]
  },
  {
   "cell_type": "markdown",
   "id": "romance-settlement",
   "metadata": {},
   "source": [
    "3. Write a function to manually calculate the length of a given list or string without using `len()`.\n"
   ]
  },
  {
   "cell_type": "code",
   "execution_count": 7,
   "id": "natural-hometown",
   "metadata": {},
   "outputs": [
    {
     "name": "stdout",
     "output_type": "stream",
     "text": [
      "16\n",
      "5\n"
     ]
    }
   ],
   "source": [
    "def find_len(arg):\n",
    "    \"\"\"The purpose of this\n",
    "    function is to find the \n",
    "    length os a given string\"\"\"\n",
    "    counter = 0\n",
    "    for i in arg:\n",
    "        counter += 1\n",
    "    return counter\n",
    "print(find_len(\"Inyanabi Michael\"))  \n",
    "print(find_len([1, 2, 3, 4, 5]))   "
   ]
  },
  {
   "cell_type": "markdown",
   "id": "distinct-lancaster",
   "metadata": {},
   "source": [
    "4. Implement a function that checks if a given character is a vowel (a, e, i, o, u).\n"
   ]
  },
  {
   "cell_type": "code",
   "execution_count": 67,
   "id": "alpine-health",
   "metadata": {},
   "outputs": [
    {
     "name": "stdout",
     "output_type": "stream",
     "text": [
      "Enter the character:u\n",
      "vowel\n"
     ]
    }
   ],
   "source": [
    "def vowel_check():\n",
    "    \"\"\"This fuction takes \n",
    "    a character and checks \n",
    "    wheather it is a vowel or not\"\"\"\n",
    "    \n",
    "    character = input(\"Enter the character:\")\n",
    "    if character.lower() in ('a', 'e', 'i', 'o', 'u'):\n",
    "        print(\"vowel\")\n",
    "    elif character.upper() in ('A', 'E', 'I', 'O', 'U'):\n",
    "        print(\"vowel\")\n",
    "    else:\n",
    "        print(\"Consonant\")\n",
    "        \n",
    "vowel_check()"
   ]
  },
  {
   "cell_type": "markdown",
   "id": "exterior-beauty",
   "metadata": {},
   "source": [
    "5. Write a function `encode()` that converts a string into \"rövarspråket\" ([robber's language](https://en.wikipedia.org/wiki/R%C3%B6varspr%C3%A5ket)) by doubling consonants and placing \"o\" in between, e.g., \"hello\" -> \"hohelollolo\".\n"
   ]
  },
  {
   "cell_type": "code",
   "execution_count": 10,
   "id": "hidden-jaguar",
   "metadata": {},
   "outputs": [
    {
     "name": "stdout",
     "output_type": "stream",
     "text": [
      "Inonyoyanonabobi MoMicochohaelol\n",
      "rorobobboberor\n",
      "lolanongoguagoge\n"
     ]
    }
   ],
   "source": [
    "def encode(text):\n",
    "    \"\"\" The purpose of this function is that, \n",
    "    it converts a string into \"rövarspråket\" \n",
    "    (robber's language) by doubling consonants\n",
    "    and placing \"o\" in between, e.g., \n",
    "    \"hello\" -> \"hohelollolo\".\"\"\"\n",
    "    \n",
    "    vowels = \"aeiouAEIOU\"\n",
    "    result = []\n",
    "\n",
    "    for char in text:\n",
    "        result.append(char)  # Append the original character\n",
    "        if char not in vowels and char.isalpha():  # Check if it's a consonant\n",
    "            result.append('o')  # Append 'o' for rövarspråket\n",
    "            result.append(char)  # Append the consonant again\n",
    "\n",
    "    return ''.join(result)\n",
    "\n",
    "# Example usage:\n",
    "print(encode(\"Inyanabi Michael\"))  # Output: \"hohelollolo\"\n",
    "print(encode(\"robber\")) # Output: \"rorobobber\"\n",
    "print(encode(\"language\")) # Output: \"lanoguagoge\"\n"
   ]
  },
  {
   "cell_type": "code",
   "execution_count": null,
   "id": "homeless-sociology",
   "metadata": {},
   "outputs": [],
   "source": []
  },
  {
   "cell_type": "markdown",
   "id": "technological-singapore",
   "metadata": {},
   "source": [
    "6. Create `sum_elements()` and `product_elements()` functions to sum and multiply all elements in a list, respectively."
   ]
  },
  {
   "cell_type": "code",
   "execution_count": 11,
   "id": "specialized-spain",
   "metadata": {},
   "outputs": [],
   "source": [
    "import math"
   ]
  },
  {
   "cell_type": "code",
   "execution_count": 14,
   "id": "recorded-progressive",
   "metadata": {},
   "outputs": [
    {
     "name": "stdout",
     "output_type": "stream",
     "text": [
      "15\n",
      "120\n"
     ]
    }
   ],
   "source": [
    "def sum_elements(lst):\n",
    "    \"\"\"This function finds \n",
    "    the sum of elements\"\"\"\n",
    "    \n",
    "    total = 0\n",
    "    for num in lst:\n",
    "        total += num\n",
    "    return total\n",
    "\n",
    "def product_elements(lst):\n",
    "    \"\"\"This function finds \n",
    "    the product of elements\"\"\"\n",
    "    product = 1\n",
    "    for num in lst:\n",
    "        product *= num\n",
    "    return product\n",
    "\n",
    "numbers = [1, 2, 3, 4, 5]\n",
    "print(sum_elements(numbers))     \n",
    "print(product_elements(numbers))  \n"
   ]
  },
  {
   "cell_type": "code",
   "execution_count": null,
   "id": "under-florence",
   "metadata": {},
   "outputs": [],
   "source": []
  },
  {
   "cell_type": "markdown",
   "id": "representative-benefit",
   "metadata": {},
   "source": [
    "7. Define a function `reverse_string()` to reverse the characters in a given string."
   ]
  },
  {
   "cell_type": "code",
   "execution_count": 23,
   "id": "separate-saskatchewan",
   "metadata": {},
   "outputs": [
    {
     "name": "stdout",
     "output_type": "stream",
     "text": [
      "olleh\n",
      "leahciM\n"
     ]
    }
   ],
   "source": [
    "def reverse_string(s):\n",
    "    \"\"\"This function performs \n",
    "    by reversing characters \n",
    "    in a given string\"\"\"\n",
    "    \n",
    "    reversed_str = ''\n",
    "    for char in s:\n",
    "        reversed_str = char + reversed_str \n",
    "    return reversed_str\n",
    "\n",
    "print(reverse_string(\"hello\"))  \n",
    "print(reverse_string(\"Michael\")) \n"
   ]
  },
  {
   "cell_type": "code",
   "execution_count": null,
   "id": "removed-tablet",
   "metadata": {},
   "outputs": [],
   "source": []
  },
  {
   "cell_type": "markdown",
   "id": "martial-spyware",
   "metadata": {},
   "source": [
    " 8. Implement `check_palindrome()` to verify if a string reads the same forwards and backwards, i.e. is a [palindrome](https://en.wikipedia.org/wiki/Palindrome)."
   ]
  },
  {
   "cell_type": "code",
   "execution_count": 44,
   "id": "liked-annotation",
   "metadata": {
    "scrolled": true
   },
   "outputs": [
    {
     "name": "stdout",
     "output_type": "stream",
     "text": [
      "True\n",
      "False\n",
      "True\n"
     ]
    }
   ],
   "source": [
    "def check_palindrome(s):\n",
    "    \"\"\"The work of this function is to verify \n",
    "    if a string reads the same forwards and backwards\"\"\"\n",
    "    # Normalizing the string by removing spaces and converting to lowercase\n",
    "    normalized_str = ''.join(s.split()).lower()\n",
    "    # Comparing the string to its reverse\n",
    "    return normalized_str == normalized_str[::-1]\n",
    "\n",
    "print(check_palindrome(\"A man a plan a canal Panama\"))  \n",
    "print(check_palindrome(\"Hello\"))                         \n",
    "print(check_palindrome(\"Racecar\"))                       \n"
   ]
  },
  {
   "cell_type": "code",
   "execution_count": null,
   "id": "continuing-conjunction",
   "metadata": {},
   "outputs": [],
   "source": []
  },
  {
   "cell_type": "markdown",
   "id": "brown-least",
   "metadata": {},
   "source": [
    "9. Develop a function `check_membership()` to determine if a value exists within a list.\n"
   ]
  },
  {
   "cell_type": "code",
   "execution_count": 43,
   "id": "lonely-literature",
   "metadata": {},
   "outputs": [
    {
     "name": "stdout",
     "output_type": "stream",
     "text": [
      "True\n",
      "False\n"
     ]
    }
   ],
   "source": [
    "def check_membership(value, lst):\n",
    "    \"\"\"The function is to determine if an element \n",
    "    exixt in a list and returns true if there is, \n",
    "    and false if there is not\"\"\"\n",
    "    for item in lst:\n",
    "        if item == value:\n",
    "            return True\n",
    "    return False\n",
    "\n",
    "my_list = [1, 2, 3, 4, 5]\n",
    "print(check_membership(3, my_list))  \n",
    "print(check_membership(6, my_list))  "
   ]
  },
  {
   "cell_type": "markdown",
   "id": "personal-measurement",
   "metadata": {},
   "source": [
    "10. Write `check_overlap()` to identify if two lists share any elements."
   ]
  },
  {
   "cell_type": "code",
   "execution_count": 42,
   "id": "absolute-intranet",
   "metadata": {},
   "outputs": [
    {
     "name": "stdout",
     "output_type": "stream",
     "text": [
      "True\n",
      "False\n"
     ]
    }
   ],
   "source": [
    "def check_overlap(list1, list2):\n",
    "    \"\"\"This function checks to verify if an element in one \n",
    "    list in found in another list. It returns true if \n",
    "    an elent from one list is found in the other\"\"\"\n",
    "    for item in list1:\n",
    "        if item in list2:\n",
    "            return True\n",
    "    return False\n",
    "\n",
    "list_a = [1, 2, 3, 4]\n",
    "list_b = [4, 5, 6]\n",
    "list_c = [7, 8, 9]\n",
    "\n",
    "print(check_overlap(list_a, list_b)) \n",
    "print(check_overlap(list_a, list_c))  \n"
   ]
  },
  {
   "cell_type": "code",
   "execution_count": null,
   "id": "ecological-confirmation",
   "metadata": {},
   "outputs": [],
   "source": []
  },
  {
   "cell_type": "markdown",
   "id": "experienced-conversation",
   "metadata": {},
   "source": [
    "11. Implement `repeat_char()` that generates a string with a specified character repeated `n` times."
   ]
  },
  {
   "cell_type": "code",
   "execution_count": 80,
   "id": "beneficial-bosnia",
   "metadata": {},
   "outputs": [
    {
     "name": "stdout",
     "output_type": "stream",
     "text": [
      "Enter the number of times you want to print the string:9\n",
      "\n",
      "Michael\n",
      "MichaelMichael\n",
      "MichaelMichaelMichael\n",
      "MichaelMichaelMichaelMichael\n",
      "MichaelMichaelMichaelMichaelMichael\n",
      "MichaelMichaelMichaelMichaelMichaelMichael\n",
      "MichaelMichaelMichaelMichaelMichaelMichaelMichael\n",
      "MichaelMichaelMichaelMichaelMichaelMichaelMichaelMichael\n"
     ]
    }
   ],
   "source": [
    "def repeat_char():\n",
    "    \n",
    "    \"\"\"This function generates a string with \n",
    "    a specified character repeated n number of times\"\"\"\n",
    "    n = int(input(\"Enter the number of times you want to print the string:\"))\n",
    "    #i=1\n",
    "    for i in range(n):\n",
    "        print(i*'Michael')\n",
    "       # i +=1\n",
    "repeat_char()"
   ]
  },
  {
   "cell_type": "markdown",
   "id": "cultural-diary",
   "metadata": {},
   "source": [
    "12. Create a function `print_histogram()` that takes a list of integers and prints a corresponding histogram."
   ]
  },
  {
   "cell_type": "code",
   "execution_count": 30,
   "id": "peripheral-holocaust",
   "metadata": {},
   "outputs": [
    {
     "name": "stdout",
     "output_type": "stream",
     "text": [
      "#\n",
      "##\n",
      "###\n",
      "####\n",
      "###\n",
      "##\n",
      "#\n"
     ]
    }
   ],
   "source": [
    "def print_histogram(list):\n",
    "    \"\"\"The work of this program is\n",
    "    to takes a list of integers and \n",
    "    print a corresponding histogram \"\"\"\n",
    "    for i in list:\n",
    "        print(i*'#')\n",
    "list = [1,2,3,4,3,2,1]\n",
    "print_histogram(list)"
   ]
  },
  {
   "cell_type": "code",
   "execution_count": null,
   "id": "adverse-cabinet",
   "metadata": {},
   "outputs": [],
   "source": []
  },
  {
   "cell_type": "markdown",
   "id": "tamil-reviewer",
   "metadata": {},
   "source": [
    "13. Write `find_max_in_list()` to identify the largest number in a list of arbitrary length."
   ]
  },
  {
   "cell_type": "code",
   "execution_count": 25,
   "id": "fitting-turkish",
   "metadata": {},
   "outputs": [
    {
     "name": "stdout",
     "output_type": "stream",
     "text": [
      "9\n"
     ]
    }
   ],
   "source": [
    "def find_max_in_list(lst):\n",
    "    if not lst:\n",
    "        return None  # Return None if the list is empty\n",
    "    \n",
    "    max_num = lst[0]\n",
    "    for num in lst[1:]:\n",
    "        if num > max_num:\n",
    "            max_num = num\n",
    "    return max_num\n",
    "\n",
    "numbers = [3, 5, 9, 1, 6]\n",
    "print(find_max_in_list(numbers))  # Output: 9\n"
   ]
  },
  {
   "cell_type": "code",
   "execution_count": null,
   "id": "binding-creation",
   "metadata": {},
   "outputs": [],
   "source": []
  },
  {
   "cell_type": "markdown",
   "id": "abstract-daisy",
   "metadata": {},
   "source": [
    "14. Create a program that maps each word in a list to its length."
   ]
  },
  {
   "cell_type": "code",
   "execution_count": 28,
   "id": "differential-cooler",
   "metadata": {},
   "outputs": [
    {
     "data": {
      "text/plain": [
       "{'apple': 5, 'banana': 6, 'cherry': 6, 'date': 4}"
      ]
     },
     "execution_count": 28,
     "metadata": {},
     "output_type": "execute_result"
    }
   ],
   "source": [
    "def map_words_to_lengths(words):\n",
    "    return {word: len(word) for word in words}\n",
    "words = [\"apple\", \"banana\", \"cherry\", \"date\"]\n",
    "map_words_to_lengths(words)\n",
    "# Output: {'apple': 5, 'banana': 6, 'cherry': 6, 'date': 4}\n"
   ]
  },
  {
   "cell_type": "code",
   "execution_count": null,
   "id": "controlled-fiber",
   "metadata": {},
   "outputs": [],
   "source": []
  },
  {
   "cell_type": "code",
   "execution_count": null,
   "id": "secure-paraguay",
   "metadata": {},
   "outputs": [],
   "source": []
  },
  {
   "cell_type": "code",
   "execution_count": 1,
   "id": "laden-tablet",
   "metadata": {},
   "outputs": [],
   "source": [
    "mkdir monpackage"
   ]
  },
  {
   "cell_type": "code",
   "execution_count": 2,
   "id": "nasty-pavilion",
   "metadata": {},
   "outputs": [
    {
     "name": "stdout",
     "output_type": "stream",
     "text": [
      "/home/michael/Downloads/monpackage\n"
     ]
    }
   ],
   "source": [
    "cd monpackage"
   ]
  },
  {
   "cell_type": "code",
   "execution_count": 3,
   "id": "accomplished-karaoke",
   "metadata": {},
   "outputs": [],
   "source": [
    "! touch __init__.py"
   ]
  },
  {
   "cell_type": "code",
   "execution_count": 4,
   "id": "altered-tuner",
   "metadata": {},
   "outputs": [],
   "source": [
    "! touch mesfonctions.py"
   ]
  },
  {
   "cell_type": "code",
   "execution_count": 17,
   "id": "jewish-heating",
   "metadata": {},
   "outputs": [],
   "source": [
    "def additionner(a, b):\n",
    "    return a + b\n",
    "\n",
    "def soustraire(a, b):\n",
    "    return a - b"
   ]
  },
  {
   "cell_type": "code",
   "execution_count": 18,
   "id": "pressed-librarian",
   "metadata": {},
   "outputs": [],
   "source": [
    "! touch mesattributs.py"
   ]
  },
  {
   "cell_type": "code",
   "execution_count": 21,
   "id": "invisible-twenty",
   "metadata": {},
   "outputs": [],
   "source": [
    "x=100\n",
    "y=95"
   ]
  },
  {
   "cell_type": "code",
   "execution_count": 22,
   "id": "sticky-vehicle",
   "metadata": {},
   "outputs": [],
   "source": [
    "from monpackage import mesfonctions"
   ]
  },
  {
   "cell_type": "code",
   "execution_count": null,
   "id": "arranged-modeling",
   "metadata": {},
   "outputs": [],
   "source": []
  },
  {
   "cell_type": "code",
   "execution_count": null,
   "id": "straight-thumb",
   "metadata": {},
   "outputs": [],
   "source": [
    "mesfonctions.additionner(23, 89)==112"
   ]
  }
 ],
 "metadata": {
  "kernelspec": {
   "display_name": "Python 3",
   "language": "python",
   "name": "python3"
  },
  "language_info": {
   "codemirror_mode": {
    "name": "ipython",
    "version": 3
   },
   "file_extension": ".py",
   "mimetype": "text/x-python",
   "name": "python",
   "nbconvert_exporter": "python",
   "pygments_lexer": "ipython3",
   "version": "3.9.2"
  }
 },
 "nbformat": 4,
 "nbformat_minor": 5
}
